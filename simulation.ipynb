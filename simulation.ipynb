{
 "cells": [
  {
   "cell_type": "markdown",
   "metadata": {},
   "source": [
    "# Model of Wind Turbine\n",
    "Convert kinectic energy of wind to mechanical energy of turbine"
   ]
  },
  {
   "cell_type": "code",
   "execution_count": 32,
   "metadata": {},
   "outputs": [],
   "source": [
    "import math\n",
    "import numpy as np\n",
    "from scipy.integrate import odeint\n",
    "import matplotlib.pyplot as pl"
   ]
  },
  {
   "cell_type": "code",
   "execution_count": 17,
   "metadata": {},
   "outputs": [],
   "source": [
    "# Define constant for wind turbine conversion\n",
    "density = 1.225 #kg/m^3\n",
    "blade_radius = 35 #m\n",
    "v = 12 #m/s wind velocity\n",
    "t_s_ratio = 8 # optimum tip to speed ratio\n",
    "cp_optimal = 0.4 # when pittch angle is 0degree\n"
   ]
  },
  {
   "cell_type": "code",
   "execution_count": 20,
   "metadata": {},
   "outputs": [
    {
     "name": "stdout",
     "output_type": "stream",
     "text": [
      "0 6.125 2.1 0.43794242258797267 1783827.3117736573\n"
     ]
    }
   ],
   "source": [
    "# need to find the optimum of these variable\n",
    "beta_optimal = None #degree pitch angle\n",
    "wm = None\n",
    "\n",
    "# model\n",
    "pm_optimal = 0 # W\n",
    "cp_optimal = 0 \n",
    "tip_speed_rm = None\n",
    "for w in np.arange(0.1,100,0.1):\n",
    "    for beta in np.arange(0,180,1):\n",
    "        tip_speed_r = blade_radius * w / v \n",
    "        gama = 1/(tip_speed_r+0.089)-0.035/(beta**3+1) # 1 over gama\n",
    "        cp = 0.22*(116*gama-0.4*beta-5)*math.exp(-12.5*gama)\n",
    "        pm = 0.5*density*math.pi*(blade_radius**2)*(v**3)*cp\n",
    "        if pm > pm_optimal:\n",
    "            wm = w\n",
    "            tip_speed_rm = tip_speed_r\n",
    "            pm_optimal = pm\n",
    "            cp_optimal = cp\n",
    "            beta_optimal = beta\n",
    "torque = pm_optimal / wm"
   ]
  },
  {
   "cell_type": "markdown",
   "metadata": {},
   "source": [
    "# Model of PMSG\n",
    "Permanent Magnet Sychronous Generator\n",
    "\n",
    "### Define the machine parameter"
   ]
  },
  {
   "cell_type": "code",
   "execution_count": 80,
   "metadata": {},
   "outputs": [],
   "source": [
    "rs = 0.01 # Stator resistance in omega\n",
    "ld = 0.0055 # d-axis inductance in H\n",
    "lq = 0.00375 # q-axis inductance in H\n",
    "p = 56 # number of poles\n",
    "f = 50 # frequency in Hz\n",
    "pf = 10 # permanent flux in Wb\n",
    "tmech = 900 # moment of inertia in kgm2"
   ]
  },
  {
   "cell_type": "code",
   "execution_count": 22,
   "metadata": {},
   "outputs": [],
   "source": [
    "ws = 2 * np.pi * f"
   ]
  },
  {
   "cell_type": "markdown",
   "metadata": {},
   "source": [
    "### Space Vector Transformation"
   ]
  },
  {
   "cell_type": "code",
   "execution_count": 23,
   "metadata": {},
   "outputs": [],
   "source": [
    "def space_vector(v3phase):\n",
    "    vu = v3phase[0]  \n",
    "    vv = v3phase[1]  \n",
    "    vw = v3phase[2]  \n",
    "    a = -0.5 + 0.866j  #e^{2pi/3} = cos(2pi/3) + jsin(2pi/3)\n",
    "    vc = (2.0/3.0)*(vu + vv*a + vw*a**2) \n",
    "    vs_alpha = vc.real  \n",
    "    vs_beta = vc.imag   \n",
    "    return vs_alpha, vs_beta  #returns real and imaginary parr"
   ]
  },
  {
   "cell_type": "code",
   "execution_count": 54,
   "metadata": {},
   "outputs": [],
   "source": [
    "def get_space_vector(angle):\n",
    "    v30 = [230*np.cos(angle), 230*np.cos(angle - 2*np.pi/3.0), \\\n",
    "                    230*np.cos(angle - 4.0*np.pi/3.0)]\n",
    "    vd, vq = space_vector(v30)\n",
    "    return vd, vq"
   ]
  },
  {
   "cell_type": "markdown",
   "metadata": {},
   "source": [
    "### Dynamic Equation for PWSG"
   ]
  },
  {
   "cell_type": "code",
   "execution_count": 78,
   "metadata": {},
   "outputs": [],
   "source": [
    "def PMSG(X, t, vd, vq):\n",
    "    x0 = X[0] # id\n",
    "    x1 = X[1] # iq\n",
    "    x2 = X[2]\n",
    "    dx0dt = -rs*x0/ld + x2*lq*x1/ld + vd/ld\n",
    "    dx1dt = -rs*x1/lq - x2*(ld*x0/lq + pf/lq) + vq/lq\n",
    "    me = 1.5*p/2*(pf*x1 + (ld-lq)*x0*x1)\n",
    "    dx2dt = (me-torque)/tmech\n",
    "    return [dx0dt,dx1dt,dx2dt]"
   ]
  },
  {
   "cell_type": "code",
   "execution_count": 96,
   "metadata": {},
   "outputs": [
    {
     "name": "stderr",
     "output_type": "stream",
     "text": [
      "c:\\users\\user\\appdata\\local\\programs\\python\\python36-32\\lib\\site-packages\\scipy\\integrate\\odepack.py:247: ODEintWarning: Excess work done on this call (perhaps wrong Dfun type). Run with full_output = 1 to get quantitative information.\n",
      "  warnings.warn(warning_msg, ODEintWarning)\n"
     ]
    }
   ],
   "source": [
    "tstart = 0\n",
    "tend = 0.5*wm*100\n",
    "tinc = 0.01\n",
    "ts = np.arange(tstart,tend,tinc)\n",
    "sols = np.zeros((len(ts),3))\n",
    "ids = np.zeros(len(ts))\n",
    "iqs = np.zeros(len(ts))\n",
    "mes = np.zeros(len(ts))\n",
    "ws = np.zeros(len(ts))\n",
    "mes = np.zeros(len(ts))\n",
    "\n",
    "# ODE solver parameters\n",
    "abserr = 1.0e-8\n",
    "relerr = 1.0e-3\n",
    "\n",
    "x0 = [0, 0, 0]\n",
    "\n",
    "for ii in range(len(ts)):\n",
    "    angle = wm*ts[ii]-int(wm*ts[ii]/np.pi/2)*2*np.pi # get the angle at this moment\n",
    "    vd, vq = get_space_vector(angle) # transform to dq axis\n",
    "    solx = odeint(PMSG, x0, [0,tinc], args=(vd, vq), atol = abserr, rtol = relerr)\n",
    "    sols[ii] = solx[-1]\n",
    "    x0 = solx[-1]\n",
    "    ids[ii] = sols[ii][0]\n",
    "    iqs[ii] = sols[ii][1]\n",
    "    ws[ii] = sols[ii][2]\n",
    "    \n",
    "for ii in range(len(ts)):    \n",
    "    mes[ii] = 1.5*p/2*(pf*ids[ii] + (ld-lq)*ids[ii]*iqs[ii])\n"
   ]
  },
  {
   "cell_type": "markdown",
   "metadata": {},
   "source": [
    "# Plot the graph"
   ]
  },
  {
   "cell_type": "code",
   "execution_count": 97,
   "metadata": {},
   "outputs": [
    {
     "data": {
      "image/png": "[encoded data removed]",
      "text/plain": [
       "<Figure size 432x432 with 2 Axes>"
      ]
     },
     "metadata": {
      "needs_background": "light"
     },
     "output_type": "display_data"
    },
    {
     "data": {
      "image/png": "[encoded data removed]",
      "text/plain": [
       "<Figure size 432x432 with 1 Axes>"
      ]
     },
     "metadata": {
      "needs_background": "light"
     },
     "output_type": "display_data"
    },
    {
     "data": {
      "image/png": "[encoded data removed]",
      "text/plain": [
       "<Figure size 432x432 with 1 Axes>"
      ]
     },
     "metadata": {
      "needs_background": "light"
     },
     "output_type": "display_data"
    }
   ],
   "source": [
    "pl.figure(1,figsize=(6,6))\n",
    "pl.rc('font',size = 16)\n",
    "ax1 = pl.subplot(2,1,1)\n",
    "ax1.plot(ts,ids,'crimson',lw=3)\n",
    "# ax2 = ax1.twinx()\n",
    "ax2 = pl.subplot(2,1,2)\n",
    "ax2.plot(ts,iqs,'slateblue',lw=3)\n",
    "\n",
    "pl.figure(2,figsize=(6,6))\n",
    "ax3 = pl.subplot(2,1,2)\n",
    "ax3.plot(ts,ws,'purple',lw=3)\n",
    "\n",
    "pl.figure(3,figsize=(6,6))\n",
    "ax3 = pl.subplot(2,1,2)\n",
    "ax3.plot(ts,mes,'peru',lw=3)\n",
    "\n",
    "pl.show()"
   ]
  }
 ],
 "metadata": {
  "kernelspec": {
   "display_name": "Python 3",
   "language": "python",
   "name": "python3"
  },
  "language_info": {
   "codemirror_mode": {
    "name": "ipython",
    "version": 3
   },
   "file_extension": ".py",
   "mimetype": "text/x-python",
   "name": "python",
   "nbconvert_exporter": "python",
   "pygments_lexer": "ipython3",
   "version": "3.6.1"
  }
 },
 "nbformat": 4,
 "nbformat_minor": 4
}
