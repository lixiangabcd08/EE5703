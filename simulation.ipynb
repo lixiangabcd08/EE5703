{
 "cells": [
  {
   "cell_type": "markdown",
   "metadata": {},
   "source": [
    "# Model of Wind Turbine\n",
    "Convert kinectic energy of wind to mechanical energy of turbine"
   ]
  },
  {
   "cell_type": "code",
   "execution_count": 10,
   "metadata": {},
   "outputs": [],
   "source": [
    "import math\n",
    "import numpy"
   ]
  },
  {
   "cell_type": "code",
   "execution_count": 7,
   "metadata": {},
   "outputs": [],
   "source": [
    "# Define constant for wind turbine conversion\n",
    "density = 1.225 #kg/m^3\n",
    "blade_radius = 35 #m\n",
    "v = 12 #m/s wind velocity\n",
    "t_s_ratio = 8 # optimum tip to speed ratio\n",
    "cp_optimal = 0.4 # when pittch angle is 0degree\n"
   ]
  },
  {
   "cell_type": "code",
   "execution_count": 18,
   "metadata": {},
   "outputs": [
    {
     "name": "stdout",
     "output_type": "stream",
     "text": [
      "0 6.125 2.1 0.43794242258797267 1783827.3117736573\n"
     ]
    }
   ],
   "source": [
    "# need to find the optimum of these variable\n",
    "beta_optimal = None #degree pitch angle\n",
    "wm = None\n",
    "\n",
    "# model\n",
    "pm_optimal = 0 # W\n",
    "cp_optimal = 0 \n",
    "tip_speed_rm = None\n",
    "for w in numpy.arange(0.1,100,0.1):\n",
    "    for beta in numpy.arange(0,180,1):\n",
    "        tip_speed_r = blade_radius * w / v \n",
    "        gama = 1/(tip_speed_r+0.089)-0.035/(beta**3+1) # 1 over gama\n",
    "        cp = 0.22*(116*gama-0.4*beta-5)*math.exp(-12.5*gama)\n",
    "        pm = 0.5*density*math.pi*(blade_radius**2)*(v**3)*cp\n",
    "        if pm > pm_optimal:\n",
    "            wm = w\n",
    "            tip_speed_rm = tip_speed_r\n",
    "            pm_optimal = pm\n",
    "            cp_optimal = cp\n",
    "            beta_optimal = beta\n",
    "        torque = pm /wm\n",
    "print(beta_optimal,tip_speed_rm,wm,cp_optimal,pm_optimal)"
   ]
  },
  {
   "cell_type": "markdown",
   "metadata": {},
   "source": [
    "# Model of PMSG\n",
    "Permanent Magnet Sychronous Generator"
   ]
  },
  {
   "cell_type": "code",
   "execution_count": null,
   "metadata": {},
   "outputs": [],
   "source": []
  }
 ],
 "metadata": {
  "kernelspec": {
   "display_name": "Python 3",
   "language": "python",
   "name": "python3"
  },
  "language_info": {
   "codemirror_mode": {
    "name": "ipython",
    "version": 3
   },
   "file_extension": ".py",
   "mimetype": "text/x-python",
   "name": "python",
   "nbconvert_exporter": "python",
   "pygments_lexer": "ipython3",
   "version": "3.6.1"
  }
 },
 "nbformat": 4,
 "nbformat_minor": 4
}
